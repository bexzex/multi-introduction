{
 "cells": [
  {
   "cell_type": "code",
   "execution_count": 1,
   "metadata": {},
   "outputs": [],
   "source": [
    "import treeswift\n",
    "from utils import *\n",
    "import random\n",
    "import os\n",
    "import numpy as np\n",
    "import math\n",
    "import matplotlib.pyplot as plt\n",
    "import seaborn as sns\n",
    "import pickle\n",
    "import random\n",
    "from pathlib import Path\n",
    "from datetime import datetime, timedelta as dt, timedelta\n",
    "import datetime\n",
    "from collections import Counter\n",
    "import time\n",
    "import numpy.random as rng\n",
    "%matplotlib inline"
   ]
  },
  {
   "cell_type": "code",
   "execution_count": 2,
   "metadata": {},
   "outputs": [],
   "source": [
    "clade_analyses_CC_dir = 'clade_analyses_CC/'\n",
    "clade_analyses_CC_d = dict()\n",
    "for path in sorted(os.listdir(clade_analyses_CC_dir)):\n",
    "    clade_analysis_path = clade_analyses_CC_dir + path\n",
    "    clade_analyses_CC_d[path.split('_')[0]] = [int(x.strip()) for x in open(clade_analysis_path)]\n",
    "clade_analyses_CC_d = {int(k):clade_analyses_CC_d[k] for k in clade_analyses_CC_d}    \n",
    "\n",
    "clade_analyses_AB_dir = 'clade_analyses_AB/'\n",
    "clade_analyses_AB_d = dict()\n",
    "for path in sorted(os.listdir(clade_analyses_AB_dir)):\n",
    "    clade_analysis_path = clade_analyses_AB_dir + path\n",
    "    clade_analyses_AB_d[path.split('_')[0]] = [int(x.strip()) for x in open(clade_analysis_path)]\n",
    "clade_analyses_AB_d = {int(k):clade_analyses_AB_d[k] for k in clade_analyses_AB_d}    "
   ]
  },
  {
   "cell_type": "markdown",
   "metadata": {},
   "source": [
    "# CC"
   ]
  },
  {
   "cell_type": "code",
   "execution_count": 3,
   "metadata": {},
   "outputs": [
    {
     "data": {
      "text/plain": [
       "(0.06909090909090909, 0.035454545454545454, 0.0027272727272727275)"
      ]
     },
     "execution_count": 3,
     "metadata": {},
     "output_type": "execute_result"
    }
   ],
   "source": [
    "count = 0 \n",
    "count_1perc = 0\n",
    "count_30perc = 0\n",
    "for run in clade_analyses_CC_d:\n",
    "    clade_sizes = clade_analyses_CC_d[run].copy()\n",
    "    if len(clade_sizes) == 2:\n",
    "        if sum([clade_size > 1 for clade_size in clade_sizes]) == 2:\n",
    "            count += 1\n",
    "            if min(clade_sizes) > (sum(clade_sizes)*0.01):\n",
    "                count_1perc += 1\n",
    "            if min(clade_sizes) > (sum(clade_sizes)*0.30):\n",
    "                count_30perc += 1\n",
    "count/1100, count_1perc/1100, count_30perc/1100"
   ]
  },
  {
   "cell_type": "markdown",
   "metadata": {},
   "source": [
    "# AB"
   ]
  },
  {
   "cell_type": "markdown",
   "metadata": {},
   "source": [
    "#### No basal polytomy"
   ]
  },
  {
   "cell_type": "code",
   "execution_count": 4,
   "metadata": {},
   "outputs": [
    {
     "data": {
      "text/plain": [
       "0.04818181818181818"
      ]
     },
     "execution_count": 4,
     "metadata": {},
     "output_type": "execute_result"
    }
   ],
   "source": [
    "count_30perc = 0\n",
    "lower_constraint = 0.3\n",
    "upper_constraint = 0.7\n",
    "constraint_smallClade = 0.03\n",
    "\n",
    "for run in clade_analyses_AB_d:\n",
    "    num_leaves = sum(clade_analyses_CC_d[run])\n",
    "    polytomy_size = len(clade_analyses_CC_d[run])\n",
    "#     if polytomy_size < 10:\n",
    "#         continue\n",
    "    clade_sizes = clade_analyses_AB_d[run]\n",
    "    if not clade_sizes: # no 2 mutation clades\n",
    "        continue\n",
    "    if max(clade_sizes) >= lower_constraint*num_leaves and max(clade_sizes) <= upper_constraint*num_leaves:\n",
    "        if len(clade_sizes) == 1:\n",
    "            count_30perc += 1\n",
    "        else:\n",
    "            clade2 = sorted(clade_sizes, reverse=True)[1]\n",
    "            if clade2 < constraint_smallClade*num_leaves:\n",
    "                count_30perc += 1\n",
    "count_30perc/1100"
   ]
  },
  {
   "cell_type": "markdown",
   "metadata": {},
   "source": [
    "#### Basal polytomy"
   ]
  },
  {
   "cell_type": "code",
   "execution_count": 5,
   "metadata": {},
   "outputs": [
    {
     "data": {
      "text/plain": [
       "0.03636363636363636"
      ]
     },
     "execution_count": 5,
     "metadata": {},
     "output_type": "execute_result"
    }
   ],
   "source": [
    "count_30perc = 0\n",
    "lower_constraint = 0.3\n",
    "upper_constraint = 0.7\n",
    "constraint_smallClade = 0.03\n",
    "\n",
    "for run in clade_analyses_AB_d:\n",
    "    num_leaves = sum(clade_analyses_CC_d[run])\n",
    "    polytomy_size = len(clade_analyses_CC_d[run])\n",
    "    if polytomy_size < 10:\n",
    "        continue\n",
    "    clade_sizes = clade_analyses_AB_d[run]\n",
    "    if not clade_sizes: # no 2 mutation clades\n",
    "        continue\n",
    "    if max(clade_sizes) >= lower_constraint*num_leaves and max(clade_sizes) <= upper_constraint*num_leaves:\n",
    "        if len(clade_sizes) == 1:\n",
    "            count_30perc += 1\n",
    "        else:\n",
    "            clade2 = sorted(clade_sizes, reverse=True)[1]\n",
    "            if clade2 < constraint_smallClade*num_leaves:\n",
    "                count_30perc += 1\n",
    "count_30perc/1100"
   ]
  },
  {
   "cell_type": "markdown",
   "metadata": {},
   "source": [
    "# Polytomies?"
   ]
  },
  {
   "cell_type": "code",
   "execution_count": 6,
   "metadata": {},
   "outputs": [
    {
     "name": "stdout",
     "output_type": "stream",
     "text": [
      "0.7645454545454545\n"
     ]
    }
   ],
   "source": [
    "min_polytomy_descendants = 10\n",
    "count_atLeastMinDescendants = 0\n",
    "for run in clade_analyses_CC_d:\n",
    "    clade_sizes = clade_analyses_CC_d[run]\n",
    "    if len(clade_sizes) >= min_polytomy_descendants:\n",
    "        count_atLeastMinDescendants += 1\n",
    "print(count_atLeastMinDescendants/1100)"
   ]
  }
 ],
 "metadata": {
  "kernelspec": {
   "display_name": "Python 3",
   "language": "python",
   "name": "python3"
  },
  "language_info": {
   "codemirror_mode": {
    "name": "ipython",
    "version": 3
   },
   "file_extension": ".py",
   "mimetype": "text/x-python",
   "name": "python",
   "nbconvert_exporter": "python",
   "pygments_lexer": "ipython3",
   "version": "3.7.6"
  }
 },
 "nbformat": 4,
 "nbformat_minor": 5
}
