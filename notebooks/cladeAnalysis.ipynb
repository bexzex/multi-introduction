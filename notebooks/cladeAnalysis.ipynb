{
 "cells": [
  {
   "cell_type": "markdown",
   "id": "41382f50",
   "metadata": {},
   "source": [
    "# Imports"
   ]
  },
  {
   "cell_type": "code",
   "execution_count": 1,
   "metadata": {},
   "outputs": [],
   "source": [
    "import os\n",
    "import numpy as np\n",
    "import pandas as pd"
   ]
  },
  {
   "cell_type": "markdown",
   "metadata": {},
   "source": [
    "# Primary analysis (3.47-day doubling time, 15% ascertainment rate) tree sizes"
   ]
  },
  {
   "cell_type": "code",
   "execution_count": 2,
   "id": "756e48da",
   "metadata": {},
   "outputs": [],
   "source": [
    "def read_clade_results(dir):\n",
    "    clade_analyses_d = dict()\n",
    "    for path in sorted(os.listdir(dir)): # pool all clade analyses together\n",
    "        clade_analysis_path = dir + path\n",
    "        key = int(path.split('_')[0])\n",
    "        clade_analyses_d[key] = {'clade_sizes': [], 'subclade_sizes': []}\n",
    "        for line in open(clade_analysis_path):\n",
    "            l = line.strip().strip(']').split('[')\n",
    "            clade_size = int(l[0].strip()) # make each clade size (including single leaves) an integer\n",
    "            subclade_sizes = [int(x) for x in l[1].strip().replace(' ', '').split(',')] # put each subclade size (including single leaves) into a list\n",
    "            clade_analyses_d[key]['clade_sizes'].append(clade_size)\n",
    "            clade_analyses_d[key]['subclade_sizes'].append(subclade_sizes)\n",
    "    return clade_analyses_d"
   ]
  },
  {
   "cell_type": "code",
   "execution_count": 3,
   "metadata": {},
   "outputs": [
    {
     "name": "stdout",
     "output_type": "stream",
     "text": [
      "Less than 787 taxa: 0.014545\n",
      "More than 1000 taxa: 0.983636\n",
      "More than 5000 taxa: 0.967273\n"
     ]
    }
   ],
   "source": [
    "clade_analyses_CC_dir = './0.28TF/clade_analyses_CC_polytomy_updated/'\n",
    "clade_analyses_AB_dir = './0.28TF/clade_analyses_AB_polytomy_updated/'\n",
    "\n",
    "clade_analyses_CC_d = read_clade_results(clade_analyses_CC_dir)\n",
    "\n",
    "print('Less than 787 taxa: %f' % (sum([sum(clade_analyses_CC_d[x]['clade_sizes']) < 787 for x in clade_analyses_CC_d])/1100)) \n",
    "print('More than 1000 taxa: %f' % (sum([sum(clade_analyses_CC_d[x]['clade_sizes']) > 1000 for x in clade_analyses_CC_d])/1100))\n",
    "print('More than 5000 taxa: %f' % (sum([sum(clade_analyses_CC_d[x]['clade_sizes']) > 5000 for x in clade_analyses_CC_d])/1100))"
   ]
  },
  {
   "cell_type": "markdown",
   "metadata": {},
   "source": [
    "# Tree shapes and bayes factors"
   ]
  },
  {
   "cell_type": "code",
   "execution_count": 4,
   "metadata": {},
   "outputs": [],
   "source": [
    "unconstrained_results = np.array([1.68,80.85, 10.32, 0.92])/100 # linB, linA, C/C, T/T\n",
    "recCA_results = np.array([77.28, 8.18, 10.49, 3.71])/100 # linB, linA, C/C, T/T"
   ]
  },
  {
   "cell_type": "code",
   "execution_count": 5,
   "id": "0b085c2c",
   "metadata": {},
   "outputs": [],
   "source": [
    "def calculate_bf(asr_results, simulation_results):\n",
    "    # Let t_p be a polytomy, t_1C be one clade, and t_2c be two clades. Note that t_p is a topology with a polytomy but is not t_1c. t_p + t_1c equals all topologies with a basal polytomy (Fig. 2a). \n",
    "    # trees are in the order\n",
    "    # (t_p, t_1C, t_2C, (t_p,(t_p,t_1C,t_2C)), (t_1C,(t_p,t_1C,t_2C)), (t_2c,(t_p,t_1C,t_2C)))\n",
    "    compatibility_matrix = np.array([np.array([0, 1, 0, 1, 1, 0, 1, 1, 0, 0, 0, 0]), # S_A\n",
    "                                     np.array([0, 1, 0, 1, 1, 0, 1, 1, 0, 0, 0, 0]), # S_B\n",
    "                                     np.array([0, 0, 1, 1, 1, 0, 1, 1, 0, 0, 0, 0]), # S_CC\n",
    "                                     np.array([0, 0, 1, 1, 1, 0, 1, 1, 0, 0, 0, 0])] # S_TT\n",
    "                                    )\n",
    "                                    \n",
    "    # A matrix of conditional probabilities\n",
    "    # Each row stores the vector Pr(S_MRCA | \\btau)\n",
    "    pr_s_mrca_given_tree = np.array([x/sum(x) if sum(x) > 0 else x for x in compatibility_matrix.T]) # if tree not associated with any haplotype, just keep the row as all 0s\n",
    "    \n",
    "    # Order: S_A, S_B, S_{C/C}, S_{T/T}\n",
    "    pr_s_mrca_given_data = np.array(asr_results)/sum(asr_results)\n",
    "    unnormalized_pr_data_given_s_mrca = pr_s_mrca_given_data.copy()\n",
    "    \n",
    "    # FAVITES simulation information\n",
    "    # the 3 trees are in the order (t_p, t_1C, t_2C)\n",
    "    pr_3_topos = np.array(simulation_results)\n",
    "    pr_trees_given_I1 = np.concatenate([pr_3_topos, np.array([0]*9)])\n",
    "    pr_trees_given_I2 = np.concatenate([np.array([0]*3), np.outer(pr_3_topos, pr_3_topos).flatten()])\n",
    "    \n",
    "    # Equal prior probability of 1 or 2 intros\n",
    "    pr_I1 = 0.5\n",
    "    pr_I2 = 0.5\n",
    "    \n",
    "    pr_s_mrca_and_I1 = np.dot([np.dot(pr_s_mrca_given_tree.T[i], pr_trees_given_I1) for i in range(0,4)], pr_I1) # dot product of P(haplotype|tree) (column) and P(trees|I_n), scaled by P(I_n)\n",
    "    pr_s_mrca_and_I2 = np.dot([np.dot(pr_s_mrca_given_tree.T[i], pr_trees_given_I2) for i in range(0,4)], pr_I2)\n",
    "\n",
    "    posterior_odds = np.dot(unnormalized_pr_data_given_s_mrca, pr_s_mrca_and_I2) / np.dot(unnormalized_pr_data_given_s_mrca, pr_s_mrca_and_I1)\n",
    "    prior_odds = pr_I2/pr_I1\n",
    "    BF = posterior_odds/prior_odds\n",
    "\n",
    "    return(BF)\n",
    "\n"
   ]
  },
  {
   "cell_type": "code",
   "execution_count": 6,
   "metadata": {},
   "outputs": [],
   "source": [
    "def clade_analysis_updated(clade_analyses_CC_dir, clade_analyses_AB_dir, label, min_polytomy_size=100, _print_=False):\n",
    "    # C/C analyses focus on 1-mutation clades\n",
    "    # therefore, all descendant lineages are included:\n",
    "    #   -1 = unmutated leaf\n",
    "    #    1 = mutated leaf separate from a clade\n",
    "    #   >1 = clade\n",
    "    clade_analyses_CC_d = read_clade_results(clade_analyses_CC_dir)\n",
    "\n",
    "    # A/B analyses focus on 2-mutation clades\n",
    "    # only 2-mutation clades are included \n",
    "    clade_analyses_AB_d = read_clade_results(clade_analyses_AB_dir)\n",
    "    \n",
    "    # C/C analysis\n",
    "    cc_count_30perc_twoPolytomies = 0 # how often are there only two 1-mutation clades, each constituting more than 30% of taxa AND with a polytomy at the base of each clade, and no other descendants from the root?\n",
    "    for run in clade_analyses_CC_d:\n",
    "        clade_sizes = clade_analyses_CC_d[run]['clade_sizes'] # get the clade sizes\n",
    "        subclade_sizes = [len(x)>=min_polytomy_size for x in clade_analyses_CC_d[run]['subclade_sizes']] # check if each clade has a polytomy at the base\n",
    "        if len(clade_sizes) == 2: # if there are more than two descendants, including individual leaves, skip\n",
    "            if min(clade_sizes) > (sum(clade_sizes)*0.30): # make sure each clade is >30%\n",
    "                if False not in subclade_sizes: # each clade must have a polytomy at the base\n",
    "                    cc_count_30perc_twoPolytomies += 1\n",
    "    \n",
    "    # A/B analysis\n",
    "    ab_count_30perc_twoPolytomies = 0 # interested in 2 mutations clade that are at least 30% of all taxa + has a basal polytomy + polytomy at 2 mutation clade\n",
    "    lower_constraint = 0.3 # the 2-mutation clade must be at least 30% of all taxa\n",
    "    upper_constraint = 0.7 # the 2-mutation clade must be at most 70% of all taxa\n",
    "\n",
    "    for run in clade_analyses_AB_d:\n",
    "        num_leaves = sum(clade_analyses_CC_d[run]['clade_sizes'])\n",
    "        base_polytomy_size = len(clade_analyses_CC_d[run]['clade_sizes']) # check how many lineages descend from the root\n",
    "        clade_sizes = clade_analyses_AB_d[run]['clade_sizes'] \n",
    "        subclade_sizes = clade_analyses_AB_d[run]['subclade_sizes']\n",
    "        if not clade_sizes: # no 2 mutation clades\n",
    "            continue\n",
    "        for index, clade_size in enumerate(clade_sizes): # loop through all 2 mutation clades\n",
    "            if lower_constraint*num_leaves <= clade_size <= upper_constraint*num_leaves: # clade match size restrictions\n",
    "                if base_polytomy_size >= min_polytomy_size: # basal polytomy\n",
    "                    if len(subclade_sizes[index]) >= min_polytomy_size: # polytomy at 2 mutation clade\n",
    "                        ab_count_30perc_twoPolytomies += 1 # if all conditions are met, add 1 to the count\n",
    "                        break # if one 2 mutation clade meets the conditions, break out of the loop and move on to the next run\n",
    "\n",
    "    # polytomy: checking if there is a polytomy at the base of the tree; can do this using the C/C analysis\n",
    "    min_polytomy_descendants = min_polytomy_size\n",
    "    count_atLeastMinDescendants = 0\n",
    "    for run in clade_analyses_CC_d: # loop through all runs\n",
    "        clade_sizes = clade_analyses_CC_d[run]['clade_sizes'] # get the clade sizes\n",
    "        if len(clade_sizes) >= min_polytomy_descendants:  # if there are at least X number of descendants, including individual leaves\n",
    "            count_atLeastMinDescendants += 1\n",
    "    polytomy_result = count_atLeastMinDescendants/1100\n",
    "    \n",
    "    # calculate bayes factors\n",
    "    cc_result = cc_count_30perc_twoPolytomies/1100\n",
    "    ab_result = ab_count_30perc_twoPolytomies/1100\n",
    "\n",
    "    simulation_results = [polytomy_result-ab_result, ab_result, cc_result] # note that polytomy result is inclusive of ab_result, so subtract ab_result from polytomy_result to avoid double counting\n",
    "    unconstrained_results = np.array([1.68, 80.85, 10.32, 0.92])/100 # linA, linB, C/C, T/T\n",
    "    recCA_results = np.array([77.28, 8.18, 10.49, 3.71])/100 # linA, linB, C/C, T/T\n",
    "    bf_unconstrained = calculate_bf(unconstrained_results, simulation_results)\n",
    "    bf_recCA = calculate_bf(recCA_results, simulation_results)\n",
    "    \n",
    "    if _print_ == True:\n",
    "        print('Proportion with a polytomy at the base: %f\\n' % (count_atLeastMinDescendants/1100))\n",
    "        print('C/C clade analysis: 2 clades, polytomy at base of each clade, each clade possessing at least 30%% of the taxa: %f\\n' % (cc_count_30perc_twoPolytomies/1100))\n",
    "        print('A/B clade analysis: Basal polytomy, polytomy at 2-mut clade, with the clade possessing between 30 and 70%% of the taxa: %f\\n' % (ab_count_30perc_twoPolytomies/1100))\n",
    "        print('Unconstrained Bayes factor: %f' % bf_unconstrained)\n",
    "        print('recCA Bayes factor: %f' % bf_recCA)\n",
    "\n",
    "    return [label, min_polytomy_size, \"{:.1f}\".format(cc_result*100), \"{:.1f}\".format(ab_result*100), \"{:.1f}\".format(polytomy_result*100), \"{:.1f}\".format(bf_unconstrained), \"{:.1f}\".format(bf_recCA)]\n",
    "\n"
   ]
  },
  {
   "cell_type": "markdown",
   "metadata": {},
   "source": [
    "### Main result"
   ]
  },
  {
   "cell_type": "code",
   "execution_count": 7,
   "metadata": {},
   "outputs": [
    {
     "name": "stdout",
     "output_type": "stream",
     "text": [
      "Proportion with a polytomy at the base: 0.475455\n",
      "\n",
      "C/C clade analysis: 2 clades, polytomy at base of each clade, each clade possessing at least 30% of the taxa: 0.000000\n",
      "\n",
      "A/B clade analysis: Basal polytomy, polytomy at 2-mut clade, with the clade possessing between 30 and 70% of the taxa: 0.030909\n",
      "\n",
      "Unconstrained Bayes factor: 4.154836\n",
      "recCA Bayes factor: 4.264418\n"
     ]
    }
   ],
   "source": [
    "# 3.5DT\n",
    "clade_analyses_CC_dir = './0.28TF/clade_analyses_CC_polytomy_updated/'\n",
    "clade_analyses_AB_dir = './0.28TF/clade_analyses_AB_polytomy_updated/'\n",
    "results = clade_analysis_updated(clade_analyses_CC_dir, clade_analyses_AB_dir, '3.5 DT', min_polytomy_size=100, _print_=True)"
   ]
  },
  {
   "cell_type": "markdown",
   "metadata": {},
   "source": [
    "### All results"
   ]
  },
  {
   "cell_type": "code",
   "execution_count": 8,
   "metadata": {},
   "outputs": [],
   "source": [
    "all_results = []\n",
    "\n",
    "# 2.5DT\n",
    "clade_analyses_CC_dir_25DT = './0.38TF/clade_analyses_CC_polytomy_updated/'\n",
    "clade_analyses_AB_dir_25DT = './0.38TF/clade_analyses_AB_polytomy_updated/'\n",
    "all_results.append(clade_analysis_updated(clade_analyses_CC_dir_25DT, clade_analyses_AB_dir_25DT, '2.5 DT', min_polytomy_size=100, _print_=False))\n",
    "\n",
    "# 3.5DT\n",
    "clade_analyses_CC_dir_35DT = './0.28TF/clade_analyses_CC_polytomy_updated/'\n",
    "clade_analyses_AB_dir_35DT = './0.28TF/clade_analyses_AB_polytomy_updated/'\n",
    "all_results.append(clade_analysis_updated(clade_analyses_CC_dir_35DT, clade_analyses_AB_dir_35DT, '3.5 DT', min_polytomy_size=100, _print_=False))\n",
    "\n",
    "# # 4.5DT\n",
    "clade_analyses_CC_dir_45DT = './0.22TF/clade_analyses_CC_polytomy_updated/'\n",
    "clade_analyses_AB_dir_45DT = './0.22TF/clade_analyses_AB_polytomy_updated/'\n",
    "all_results.append(clade_analysis_updated(clade_analyses_CC_dir_45DT, clade_analyses_AB_dir_45DT, '4.5 DT', min_polytomy_size=100, _print_=False)) \n",
    "\n",
    "# # 3.5 DT, low asc\n",
    "clade_analyses_CC_dir_35DT_lowAsc = './0.295TF_0.05r/clade_analyses_CC_polytomy_updated/'\n",
    "clade_analyses_AB_dir_35DT_lowAsc = './0.295TF_0.05r/clade_analyses_AB_polytomy_updated/'\n",
    "all_results.append(clade_analysis_updated(clade_analyses_CC_dir_35DT_lowAsc, clade_analyses_AB_dir_35DT_lowAsc, '3.5 DT, low asc', min_polytomy_size=100, _print_=False))\n",
    "\n",
    "# # 3.5 DT, high asc\n",
    "clade_analyses_CC_dir_35DT_highAsc = './0.255TF_0.25r/clade_analyses_CC_polytomy_updated/'\n",
    "clade_analyses_AB_dir_35DT_highAsc = './0.255TF_0.25r/clade_analyses_AB_polytomy_updated/'\n",
    "all_results.append(clade_analysis_updated(clade_analyses_CC_dir_35DT_highAsc, clade_analyses_AB_dir_35DT_highAsc, '3.5 DT, high asc', min_polytomy_size=100,  _print_=False))\n",
    "\n",
    "# 3.5DT sensitivity analyses\n",
    "all_results.append(clade_analysis_updated(clade_analyses_CC_dir_35DT, clade_analyses_AB_dir_35DT, '3.5 DT', min_polytomy_size=20, _print_=False))\n",
    "all_results.append(clade_analysis_updated(clade_analyses_CC_dir_35DT, clade_analyses_AB_dir_35DT, '3.5 DT', min_polytomy_size=50, _print_=False))\n",
    "all_results.append(clade_analysis_updated(clade_analyses_CC_dir_35DT, clade_analyses_AB_dir_35DT, '3.5 DT', min_polytomy_size=200, _print_=False))\n",
    "all_results.append(clade_analysis_updated(clade_analyses_CC_dir_35DT, clade_analyses_AB_dir_35DT, '3.5 DT', min_polytomy_size=500, _print_=False))\n",
    "\n"
   ]
  },
  {
   "cell_type": "markdown",
   "metadata": {},
   "source": [
    "### Generate table"
   ]
  },
  {
   "cell_type": "code",
   "execution_count": 9,
   "metadata": {},
   "outputs": [
    {
     "data": {
      "text/html": [
       "<div>\n",
       "<style scoped>\n",
       "    .dataframe tbody tr th:only-of-type {\n",
       "        vertical-align: middle;\n",
       "    }\n",
       "\n",
       "    .dataframe tbody tr th {\n",
       "        vertical-align: top;\n",
       "    }\n",
       "\n",
       "    .dataframe thead th {\n",
       "        text-align: right;\n",
       "    }\n",
       "</style>\n",
       "<table border=\"1\" class=\"dataframe\">\n",
       "  <thead>\n",
       "    <tr style=\"text-align: right;\">\n",
       "      <th></th>\n",
       "      <th>Analysis</th>\n",
       "      <th>Min. polytomy size</th>\n",
       "      <th>C/C</th>\n",
       "      <th>A/B</th>\n",
       "      <th>Polytomy</th>\n",
       "      <th>Unconstrained</th>\n",
       "      <th>recCA</th>\n",
       "    </tr>\n",
       "  </thead>\n",
       "  <tbody>\n",
       "    <tr>\n",
       "      <th>0</th>\n",
       "      <td>2.5 DT</td>\n",
       "      <td>100</td>\n",
       "      <td>0.0</td>\n",
       "      <td>3.4</td>\n",
       "      <td>58.6</td>\n",
       "      <td>5.8</td>\n",
       "      <td>6.0</td>\n",
       "    </tr>\n",
       "    <tr>\n",
       "      <th>1</th>\n",
       "      <td>3.5 DT</td>\n",
       "      <td>100</td>\n",
       "      <td>0.0</td>\n",
       "      <td>3.1</td>\n",
       "      <td>47.5</td>\n",
       "      <td>4.2</td>\n",
       "      <td>4.3</td>\n",
       "    </tr>\n",
       "    <tr>\n",
       "      <th>2</th>\n",
       "      <td>4.5 DT</td>\n",
       "      <td>100</td>\n",
       "      <td>0.1</td>\n",
       "      <td>3.5</td>\n",
       "      <td>43.1</td>\n",
       "      <td>3.0</td>\n",
       "      <td>3.0</td>\n",
       "    </tr>\n",
       "    <tr>\n",
       "      <th>3</th>\n",
       "      <td>3.5 DT, low asc</td>\n",
       "      <td>100</td>\n",
       "      <td>0.0</td>\n",
       "      <td>3.4</td>\n",
       "      <td>45.7</td>\n",
       "      <td>3.5</td>\n",
       "      <td>3.6</td>\n",
       "    </tr>\n",
       "    <tr>\n",
       "      <th>4</th>\n",
       "      <td>3.5 DT, high asc</td>\n",
       "      <td>100</td>\n",
       "      <td>0.2</td>\n",
       "      <td>3.5</td>\n",
       "      <td>47.3</td>\n",
       "      <td>3.6</td>\n",
       "      <td>3.7</td>\n",
       "    </tr>\n",
       "    <tr>\n",
       "      <th>5</th>\n",
       "      <td>3.5 DT</td>\n",
       "      <td>20</td>\n",
       "      <td>0.1</td>\n",
       "      <td>5.1</td>\n",
       "      <td>60.7</td>\n",
       "      <td>4.1</td>\n",
       "      <td>4.2</td>\n",
       "    </tr>\n",
       "    <tr>\n",
       "      <th>6</th>\n",
       "      <td>3.5 DT</td>\n",
       "      <td>50</td>\n",
       "      <td>0.1</td>\n",
       "      <td>3.9</td>\n",
       "      <td>53.6</td>\n",
       "      <td>4.2</td>\n",
       "      <td>4.3</td>\n",
       "    </tr>\n",
       "    <tr>\n",
       "      <th>7</th>\n",
       "      <td>3.5 DT</td>\n",
       "      <td>200</td>\n",
       "      <td>0.0</td>\n",
       "      <td>2.1</td>\n",
       "      <td>40.7</td>\n",
       "      <td>4.5</td>\n",
       "      <td>4.6</td>\n",
       "    </tr>\n",
       "    <tr>\n",
       "      <th>8</th>\n",
       "      <td>3.5 DT</td>\n",
       "      <td>500</td>\n",
       "      <td>0.0</td>\n",
       "      <td>1.1</td>\n",
       "      <td>31.7</td>\n",
       "      <td>5.2</td>\n",
       "      <td>5.4</td>\n",
       "    </tr>\n",
       "  </tbody>\n",
       "</table>\n",
       "</div>"
      ],
      "text/plain": [
       "           Analysis  Min. polytomy size  C/C  A/B Polytomy Unconstrained recCA\n",
       "0            2.5 DT                 100  0.0  3.4     58.6           5.8   6.0\n",
       "1            3.5 DT                 100  0.0  3.1     47.5           4.2   4.3\n",
       "2            4.5 DT                 100  0.1  3.5     43.1           3.0   3.0\n",
       "3   3.5 DT, low asc                 100  0.0  3.4     45.7           3.5   3.6\n",
       "4  3.5 DT, high asc                 100  0.2  3.5     47.3           3.6   3.7\n",
       "5            3.5 DT                  20  0.1  5.1     60.7           4.1   4.2\n",
       "6            3.5 DT                  50  0.1  3.9     53.6           4.2   4.3\n",
       "7            3.5 DT                 200  0.0  2.1     40.7           4.5   4.6\n",
       "8            3.5 DT                 500  0.0  1.1     31.7           5.2   5.4"
      ]
     },
     "execution_count": 9,
     "metadata": {},
     "output_type": "execute_result"
    }
   ],
   "source": [
    "pooled_df = pd.DataFrame(all_results, columns = ['Analysis', 'Min. polytomy size', 'C/C', 'A/B', 'Polytomy', 'Unconstrained', 'recCA'])\n",
    "pooled_df"
   ]
  },
  {
   "cell_type": "code",
   "execution_count": 10,
   "metadata": {},
   "outputs": [],
   "source": [
    "# pooled_df.to_csv('bayes_factors.csv', index=None)"
   ]
  }
 ],
 "metadata": {
  "kernelspec": {
   "display_name": "Python 3",
   "language": "python",
   "name": "python3"
  },
  "language_info": {
   "codemirror_mode": {
    "name": "ipython",
    "version": 3
   },
   "file_extension": ".py",
   "mimetype": "text/x-python",
   "name": "python",
   "nbconvert_exporter": "python",
   "pygments_lexer": "ipython3",
   "version": "3.10.10"
  }
 },
 "nbformat": 4,
 "nbformat_minor": 5
}
