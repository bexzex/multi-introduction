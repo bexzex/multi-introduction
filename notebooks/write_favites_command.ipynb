{
 "cells": [
  {
   "cell_type": "code",
   "execution_count": 1,
   "metadata": {},
   "outputs": [
    {
     "name": "stdout",
     "output_type": "stream",
     "text": [
      "/path/to/FAVITES-COVID-Lite_noSeqgen.py --gzip_output --path_ngg_barabasi_albert /path/to/ngg_barabasi_albert --path_gemf /path/to/GEMF --path_coatran_constant /path/to/coatran_constant --path_seqgen /path/to/seq-gen --cn_n 5000000 --cn_m 8 --tn_s_to_e_seed 0 --tn_e_to_p1 125.862069 --tn_p1_to_p2 999999999 --tn_p2_to_i1 23.804348 --tn_p2_to_a1 134.891304 --tn_i1_to_i2 62.931034 --tn_i1_to_h 0.000000 --tn_i1_to_r 62.931034 --tn_i2_to_h 45.061728 --tn_i2_to_r 0.000000 --tn_a1_to_a2 9999999999 --tn_a2_to_r 125.862069 --tn_h_to_r 12.166667 --tn_s_to_e_by_e 0 --tn_s_to_e_by_p1 0 --tn_s_to_e_by_p2 3.513125 --tn_s_to_e_by_i1 6.387500 --tn_s_to_e_by_i2 6.387500 --tn_s_to_e_by_a1 0 --tn_s_to_e_by_a2 3.513125 --tn_freq_s 0.99999980 --tn_freq_e 0.00000020 --tn_freq_p1 0 --tn_freq_p2 0 --tn_freq_i1 0 --tn_freq_i2 0 --tn_freq_a1 0 --tn_freq_a2 0 --tn_freq_h 0 --tn_freq_r 0 --tn_end_time 0.273973 --tn_num_seeds 1 --pt_eff_pop_size 1 --pm_mut_rate 0.00092000 --o \n"
     ]
    }
   ],
   "source": [
    "def write_command(path_favites_covid_lite_updated, path_ngg_barabasi_albert, path_gemf, path_coatran_constant, path_seqgen, cn_n, cn_m, alpha, beta, r, De, Dp, Di, Dq, Dh, symptoms_to_hosp, end_time, mut_rate):\n",
    "    tn_e_to_p1 = 1 / De\n",
    "    tn_p2_to_i1 = 1 * r / Dp\n",
    "    tn_p2_to_a1 = (1 - r) * 1 / Dp\n",
    "    tn_i1_to_h = 0\n",
    "    tn_i1_to_r = (1 / Dq) / 2\n",
    "    tn_i1_to_i2 = (1 / Dq) / 2\n",
    "    tn_i2_to_h = 1 / (symptoms_to_hosp - Dq)\n",
    "    tn_i2_to_r = 0 \n",
    "    tn_a2_to_r = 1 / Di\n",
    "    tn_h_to_r = 1 / Dh\n",
    "    tn_s_to_e_by_p2 = 365 * alpha * beta / (cn_m * 2)\n",
    "    tn_s_to_e_by_i1 = 365 * beta / (cn_m * 2)\n",
    "    tn_s_to_e_by_i2 = 365 * beta / (cn_m * 2)\n",
    "    tn_s_to_e_by_a2 = 365 * alpha * beta / (cn_m * 2)\n",
    "    tn_freq_s = (cn_n - 1) / cn_n\n",
    "    tn_freq_e = 1 / cn_n\n",
    "    tn_end_time = end_time\n",
    "    pm_mut_rate = mut_rate\n",
    "    command = path_favites_covid_lite_updated + ' --gzip_output --path_ngg_barabasi_albert ' + path_ngg_barabasi_albert + ' --path_gemf ' + path_gemf + \\\n",
    "              ' --path_coatran_constant ' + path_coatran_constant + ' --cn_n ' + str(cn_n) + ' --cn_m ' + str(cn_m) + ' --tn_s_to_e_seed 0 ' + \\\n",
    "              ' --tn_e_to_p1 ' + str(tn_e_to_p1) + ' --tn_p1_to_p2 999999999 --tn_p2_to_i1 ' + str(tn_p2_to_i1) + ' --tn_p2_to_a1 ' + str(tn_p2_to_a1) + \\\n",
    "              ' --tn_i1_to_i2 ' + str(tn_i1_to_i2) + ' --tn_i1_to_h ' + str(tn_i1_to_h) + ' --tn_i1_to_r ' + str(tn_i1_to_r) + \\\n",
    "              ' --tn_i2_to_h ' + str(tn_i2_to_h) + ' --tn_i2_to_r ' + str(tn_i2_to_r) + ' --tn_a1_to_a2 9999999999 --tn_a2_to_r ' + str(tn_a2_to_r) + \\\n",
    "              ' --tn_h_to_r ' + str(tn_h_to_r) + ' --tn_s_to_e_by_e 0 --tn_s_to_e_by_p1 0' + \\\n",
    "              ' --tn_s_to_e_by_p2 ' + str(tn_s_to_e_by_p2) + ' --tn_s_to_e_by_i1 ' + str(tn_s_to_e_by_i1) + \\\n",
    "              ' --tn_s_to_e_by_i2 ' + str(tn_s_to_e_by_i2) + ' --tn_s_to_e_by_a1 0 --tn_s_to_e_by_a2 ' + str(tn_s_to_e_by_a2) + \\\n",
    "              ' --tn_freq_s ' + str((cn_n - 1) / cn_n) + ' --tn_freq_e ' + str(1 / cn_n) + \\\n",
    "              ' --tn_freq_p1 0 --tn_freq_p2 0 --tn_freq_i1 0 --tn_freq_i2 0 --tn_freq_a1 0 --tn_freq_a2 0 --tn_freq_h 0 --tn_freq_r 0' + \\\n",
    "              ' --tn_end_time ' + str(tn_end_time) + ' --tn_num_seeds 1 --pt_eff_pop_size 1 --pm_mut_rate ' + str(pm_mut_rate) + ' --o '     \n",
    "    \n",
    "    command_a = '%s --gzip_output --path_ngg_barabasi_albert %s --path_gemf %s --path_coatran_constant %s --path_seqgen %s' % (path_favites_covid_lite_updated, path_ngg_barabasi_albert, path_gemf, path_coatran_constant, path_seqgen)\n",
    "    command_b = ' --cn_n %i --cn_m %i --tn_s_to_e_seed 0 --tn_e_to_p1 %f --tn_p1_to_p2 999999999 --tn_p2_to_i1 %f --tn_p2_to_a1 %f --tn_i1_to_i2 %f --tn_i1_to_h %f --tn_i1_to_r %f --tn_i2_to_h %f --tn_i2_to_r %f --tn_a1_to_a2 9999999999 --tn_a2_to_r %f --tn_h_to_r %f --tn_s_to_e_by_e 0 --tn_s_to_e_by_p1 0 --tn_s_to_e_by_p2 %f --tn_s_to_e_by_i1 %f --tn_s_to_e_by_i2 %f --tn_s_to_e_by_a1 0 --tn_s_to_e_by_a2 %f --tn_freq_s %.8f --tn_freq_e %.8f --tn_freq_p1 0 --tn_freq_p2 0 --tn_freq_i1 0 --tn_freq_i2 0 --tn_freq_a1 0 --tn_freq_a2 0 --tn_freq_h 0 --tn_freq_r 0 --tn_end_time %f --tn_num_seeds 1 --pt_eff_pop_size 1 --pm_mut_rate %.8f --o ' % (cn_n, cn_m, tn_e_to_p1 , tn_p2_to_i1 , tn_p2_to_a1 , tn_i1_to_i2, tn_i1_to_h, tn_i1_to_r, tn_i2_to_h , tn_i2_to_r , tn_a2_to_r , tn_h_to_r , tn_s_to_e_by_p2 , tn_s_to_e_by_i1, tn_s_to_e_by_i2 , tn_s_to_e_by_a2 , tn_freq_s , tn_freq_e , tn_end_time, pm_mut_rate)\n",
    "    command = command_a + command_b\n",
    "    return command\n",
    "\n",
    "\n",
    "path_favites_covid_lite = '/path/to/FAVITES-COVID-Lite_noSeqgen.py'\n",
    "path_ngg_barabasi_albert = '/path/to/ngg_barabasi_albert'\n",
    "path_gemf = '/path/to/GEMF'\n",
    "path_coatran_constant = '/path/to/coatran_constant'\n",
    "path_seqgen = '/path/to/seq-gen'\n",
    "\n",
    "cn_n = 5000000 # network size\n",
    "cn_m = 8 # 1/2 the average degree\n",
    "alpha = 0.55 # Ratio of transmission for unascertained\n",
    "De =  2.9/365 # Latent period \n",
    "Dp = 2.3/365 # Presymptomatic infectious period \n",
    "Di = 2.9/365 # Symptomatic infectious period \n",
    "Dq = 2.9/365 # Duration from illness onset to isolation (hospitalization) \n",
    "Dh = 30/365 # Isolation (hospitalization) period \n",
    "symptoms_to_hosp = 11/365 # length of time from symptom onset to hospitalization, if hospitalized\n",
    "mut_rate = 0.00092 # mutation rate; ends up not being used because we perform the evolution in the stableCoalescence_cladeAnalysis.py script\n",
    "\n",
    "beta = 0.28 # transmission rate\n",
    "r = 0.15 # ascertainment rate\n",
    "end_time = 100/365 # end time of simulation\n",
    "\n",
    "command = write_command(path_favites_covid_lite, path_ngg_barabasi_albert, path_gemf, path_coatran_constant, path_seqgen, cn_n, cn_m, alpha, beta, r, De, Dp, Di, Dq, Dh, symptoms_to_hosp, end_time, mut_rate)\n",
    "print(command)\n",
    "# output = f'/FAVITES-COVID-Lite/commands/primary_analysis.{beta:.3f}b_{r:.2f}r.txt'\n",
    "# with open(output, 'w') as f:\n",
    "#     f.write(command)"
   ]
  }
 ],
 "metadata": {
  "kernelspec": {
   "display_name": "Python 3",
   "language": "python",
   "name": "python3"
  },
  "language_info": {
   "codemirror_mode": {
    "name": "ipython",
    "version": 3
   },
   "file_extension": ".py",
   "mimetype": "text/x-python",
   "name": "python",
   "nbconvert_exporter": "python",
   "pygments_lexer": "ipython3",
   "version": "3.7.6"
  }
 },
 "nbformat": 4,
 "nbformat_minor": 4
}
